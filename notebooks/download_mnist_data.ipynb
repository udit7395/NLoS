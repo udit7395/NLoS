{
 "cells": [
  {
   "cell_type": "code",
   "execution_count": null,
   "id": "7002398f-63c8-482c-be56-54caeb53b412",
   "metadata": {},
   "outputs": [],
   "source": [
    "import os\n",
    "import cv2\n",
    "import numpy as np\n",
    "\n",
    "train_image = 'train-images-idx3-ubyte'\n",
    "train_label = 'train-labels-idx1-ubyte'\n",
    "test_image = 't10k-images-idx3-ubyte'\n",
    "test_label = 't10k-labels-idx1-ubyte'\n",
    "\n",
    "for f in [train_image, train_label, test_image, test_label]:\n",
    "\tos.system('wget --no-check-certificate http://yann.lecun.com/exdb/mnist/%s.gz' % (f,))\n",
    "\t\n",
    "for f in [train_image, train_label, test_image, test_label]:\n",
    "\tos.system('gunzip %s.gz' % (f,))\n",
    "\n",
    "for image_f, label_f in [(train_image, train_label)]:\n",
    "\twith open(image_f, 'rb') as f:\n",
    "\t\timages = f.read()\n",
    "\twith open(label_f, 'rb') as f:\n",
    "\t\tlabels = f.read()\n",
    "\t\n",
    "\timages = [d for d in images[16:]]\n",
    "\timages = np.array(images, dtype=np.uint8)\n",
    "\timages = images.reshape((-1,28,28))\n",
    "\t\n",
    "\toutdir = image_f + \"_train_folder\"\n",
    "\tif not os.path.exists(outdir):\n",
    "\t\tos.mkdir(outdir)\n",
    "\tfor k,image in enumerate(images):\n",
    "\t\tcv2.imwrite(os.path.join(outdir, '%05d.png' % (k,)), image)\n",
    "\t\n",
    "\tlabels = [outdir + '/%05d.png %d' % (k, l) for k,l in enumerate(labels[8:])]\n",
    "\twith open('%s_train.txt' % label_f, 'w') as f:\n",
    "\t\tf.write(os.linesep.join(labels))\n",
    "        \n",
    "for image_f, label_f in [(test_image, test_label)]:\n",
    "\twith open(image_f, 'rb') as f:\n",
    "\t\timages = f.read()\n",
    "\twith open(label_f, 'rb') as f:\n",
    "\t\tlabels = f.read()\n",
    "\t\n",
    "\timages = [d for d in images[16:]]\n",
    "\timages = np.array(images, dtype=np.uint8)\n",
    "\timages = images.reshape((-1,28,28))\n",
    "\t\n",
    "\toutdir = image_f + \"_test_folder\"\n",
    "\tif not os.path.exists(outdir):\n",
    "\t\tos.mkdir(outdir)\n",
    "\tfor k,image in enumerate(images):\n",
    "\t\tcv2.imwrite(os.path.join(outdir, '%05d.png' % (k,)), image)\n",
    "\t\n",
    "\tlabels = [outdir + '/%05d.png %d' % (k, l) for k,l in enumerate(labels[8:])]\n",
    "\twith open('%s_test.txt' % label_f, 'w') as f:\n",
    "\t\tf.write(os.linesep.join(labels))"
   ]
  }
 ],
 "metadata": {
  "kernelspec": {
   "display_name": "Python 3 (ipykernel)",
   "language": "python",
   "name": "python3"
  },
  "language_info": {
   "codemirror_mode": {
    "name": "ipython",
    "version": 3
   },
   "file_extension": ".py",
   "mimetype": "text/x-python",
   "name": "python",
   "nbconvert_exporter": "python",
   "pygments_lexer": "ipython3",
   "version": "3.8.10"
  }
 },
 "nbformat": 4,
 "nbformat_minor": 5
}
